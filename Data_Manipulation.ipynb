{
  "nbformat": 4,
  "nbformat_minor": 0,
  "metadata": {
    "colab": {
      "name": "Data_Manipulation.ipynb",
      "provenance": [],
      "include_colab_link": true
    },
    "kernelspec": {
      "name": "python3",
      "display_name": "Python 3"
    }
  },
  "cells": [
    {
      "cell_type": "markdown",
      "metadata": {
        "id": "view-in-github",
        "colab_type": "text"
      },
      "source": [
        "<a href=\"https://colab.research.google.com/github/fatach/Clustering-classification/blob/master/Data_Manipulation.ipynb\" target=\"_parent\"><img src=\"https://colab.research.google.com/assets/colab-badge.svg\" alt=\"Open In Colab\"/></a>"
      ]
    },
    {
      "cell_type": "code",
      "metadata": {
        "id": "kWgcYJRR_071",
        "colab_type": "code",
        "colab": {
          "base_uri": "https://localhost:8080/",
          "height": 33
        },
        "outputId": "ef482a32-bd5c-4dc5-b50c-cb6479971a20"
      },
      "source": [
        "import pandas as pd\n",
        "pd.options.display.max_rows = 10\n",
        "#vérifier la version\n",
        "print(pd.__version__)"
      ],
      "execution_count": 5,
      "outputs": [
        {
          "output_type": "stream",
          "text": [
            "0.25.3\n"
          ],
          "name": "stdout"
        }
      ]
    },
    {
      "cell_type": "code",
      "metadata": {
        "id": "M2YJpd8WBesm",
        "colab_type": "code",
        "colab": {
          "base_uri": "https://localhost:8080/",
          "height": 250
        },
        "outputId": "040fdc95-f3af-4676-a75d-6b5e4efaf362"
      },
      "source": [
        "#chargement du fichier\n",
        "#df est le nom de l'objet de type data frame créé\n",
        "#sep spécifie le caractère séparateur de colonnes\n",
        "#header = 0 : la ligne numéro 0 = aux noms des champs\n",
        "#éventuellement decimal permet d'indiquer le point décimal\n",
        "df = pd.read_csv('Daily_Demand.txt', sep='\\t',header=0)\n",
        "\n",
        "#afficher\n",
        "print(df)"
      ],
      "execution_count": 7,
      "outputs": [
        {
          "output_type": "stream",
          "text": [
            "      No X1 transaction date  ... X6 longitude Y house price of unit area\n",
            "0      1            2012,917  ...    121,54024                       37,9\n",
            "1      2            2012,917  ...    121,53951                       42,2\n",
            "2      3            2013,583  ...    121,54391                       47,3\n",
            "3      4            2013,500  ...    121,54391                       54,8\n",
            "4      5            2012,833  ...    121,54245                       43,1\n",
            "..   ...                 ...  ...          ...                        ...\n",
            "409  410            2013,000  ...    121,50381                       15,4\n",
            "410  411            2012,667  ...     121,5431                         50\n",
            "411  412            2013,250  ...    121,53986                       40,6\n",
            "412  413            2013,000  ...    121,54067                       52,5\n",
            "413  414            2013,500  ...     121,5431                       63,9\n",
            "\n",
            "[414 rows x 8 columns]\n"
          ],
          "name": "stdout"
        }
      ]
    },
    {
      "cell_type": "code",
      "metadata": {
        "id": "DadRP5iHDIK2",
        "colab_type": "code",
        "colab": {
          "base_uri": "https://localhost:8080/",
          "height": 33
        },
        "outputId": "d64e8737-33e4-4c94-9833-98a043b4152d"
      },
      "source": [
        "#dimensions : nombre de lignes, nombre de colonnes\n",
        "#la ligne d'en-tête n'est pas comptabilisée\n",
        "#dans le nombre de lignes\n",
        "print(df.shape)"
      ],
      "execution_count": 8,
      "outputs": [
        {
          "output_type": "stream",
          "text": [
            "(414, 8)\n"
          ],
          "name": "stdout"
        }
      ]
    },
    {
      "cell_type": "code",
      "metadata": {
        "id": "Ll3REv8uDMEg",
        "colab_type": "code",
        "colab": {
          "base_uri": "https://localhost:8080/",
          "height": 150
        },
        "outputId": "445b55d7-0277-4c3e-bcfc-73f7a58f5e58"
      },
      "source": [
        "#afficher les premières lignes du jeu de données\n",
        "print(df.head())"
      ],
      "execution_count": 9,
      "outputs": [
        {
          "output_type": "stream",
          "text": [
            "   No X1 transaction date  ... X6 longitude Y house price of unit area\n",
            "0   1            2012,917  ...    121,54024                       37,9\n",
            "1   2            2012,917  ...    121,53951                       42,2\n",
            "2   3            2013,583  ...    121,54391                       47,3\n",
            "3   4            2013,500  ...    121,54391                       54,8\n",
            "4   5            2012,833  ...    121,54245                       43,1\n",
            "\n",
            "[5 rows x 8 columns]\n"
          ],
          "name": "stdout"
        }
      ]
    },
    {
      "cell_type": "code",
      "metadata": {
        "id": "_10jun-8DZFM",
        "colab_type": "code",
        "colab": {
          "base_uri": "https://localhost:8080/",
          "height": 150
        },
        "outputId": "c62e7e55-00ac-4a66-93a3-3ef497669f41"
      },
      "source": [
        "#afficher les dernieres lignes du jeu de données\n",
        "print(df.tail())\n"
      ],
      "execution_count": 10,
      "outputs": [
        {
          "output_type": "stream",
          "text": [
            "      No X1 transaction date  ... X6 longitude Y house price of unit area\n",
            "409  410            2013,000  ...    121,50381                       15,4\n",
            "410  411            2012,667  ...     121,5431                         50\n",
            "411  412            2013,250  ...    121,53986                       40,6\n",
            "412  413            2013,000  ...    121,54067                       52,5\n",
            "413  414            2013,500  ...     121,5431                       63,9\n",
            "\n",
            "[5 rows x 8 columns]\n"
          ],
          "name": "stdout"
        }
      ]
    },
    {
      "cell_type": "code",
      "metadata": {
        "id": "vD7VLQPNDtGC",
        "colab_type": "code",
        "colab": {
          "base_uri": "https://localhost:8080/",
          "height": 100
        },
        "outputId": "eba9255c-75f5-4b24-8873-fa4454dd5c96"
      },
      "source": [
        "#énumération des colonnes\n",
        "print(df.columns)"
      ],
      "execution_count": 11,
      "outputs": [
        {
          "output_type": "stream",
          "text": [
            "Index(['No', 'X1 transaction date', 'X2 house age',\n",
            "       'X3 distance to the nearest MRT station',\n",
            "       'X4 number of convenience stores', 'X5 latitude', 'X6 longitude',\n",
            "       'Y house price of unit area'],\n",
            "      dtype='object')\n"
          ],
          "name": "stdout"
        }
      ]
    },
    {
      "cell_type": "code",
      "metadata": {
        "id": "g4Er6yWTBem0",
        "colab_type": "code",
        "colab": {
          "base_uri": "https://localhost:8080/",
          "height": 167
        },
        "outputId": "12192163-bb87-4efb-f76f-fdd9f2de7048"
      },
      "source": [
        "#type de chaque colonne\n",
        "print(df.dtypes)"
      ],
      "execution_count": 14,
      "outputs": [
        {
          "output_type": "stream",
          "text": [
            "No                                         int64\n",
            "X1 transaction date                       object\n",
            "X2 house age                              object\n",
            "X3 distance to the nearest MRT station    object\n",
            "X4 number of convenience stores            int64\n",
            "X5 latitude                               object\n",
            "X6 longitude                              object\n",
            "Y house price of unit area                object\n",
            "dtype: object\n"
          ],
          "name": "stdout"
        }
      ]
    },
    {
      "cell_type": "code",
      "metadata": {
        "id": "bHdB7VSfEXSt",
        "colab_type": "code",
        "colab": {
          "base_uri": "https://localhost:8080/",
          "height": 250
        },
        "outputId": "979b4a1b-236e-45ac-ec72-9fa5f8c9df79"
      },
      "source": [
        "#informations sur les données\n",
        "print(df.info())"
      ],
      "execution_count": 15,
      "outputs": [
        {
          "output_type": "stream",
          "text": [
            "<class 'pandas.core.frame.DataFrame'>\n",
            "RangeIndex: 414 entries, 0 to 413\n",
            "Data columns (total 8 columns):\n",
            "No                                        414 non-null int64\n",
            "X1 transaction date                       414 non-null object\n",
            "X2 house age                              414 non-null object\n",
            "X3 distance to the nearest MRT station    414 non-null object\n",
            "X4 number of convenience stores           414 non-null int64\n",
            "X5 latitude                               414 non-null object\n",
            "X6 longitude                              414 non-null object\n",
            "Y house price of unit area                414 non-null object\n",
            "dtypes: int64(2), object(6)\n",
            "memory usage: 26.0+ KB\n",
            "None\n"
          ],
          "name": "stdout"
        }
      ]
    },
    {
      "cell_type": "code",
      "metadata": {
        "id": "H1YrVupcEpVG",
        "colab_type": "code",
        "colab": {
          "base_uri": "https://localhost:8080/",
          "height": 250
        },
        "outputId": "eef837b4-53f1-48bf-b1bb-b5dd735bad49"
      },
      "source": [
        "#description des données\n",
        "print(df.describe(include='all'))"
      ],
      "execution_count": 17,
      "outputs": [
        {
          "output_type": "stream",
          "text": [
            "            No X1 transaction date  ... X6 longitude Y house price of unit area\n",
            "count   414.00                 414  ...          414                        414\n",
            "unique     NaN                  12  ...          232                        270\n",
            "top        NaN            2013,417  ...    121,54348                       42,3\n",
            "freq       NaN                  58  ...           13                          4\n",
            "mean    207.50                 NaN  ...          NaN                        NaN\n",
            "...        ...                 ...  ...          ...                        ...\n",
            "min       1.00                 NaN  ...          NaN                        NaN\n",
            "25%     104.25                 NaN  ...          NaN                        NaN\n",
            "50%     207.50                 NaN  ...          NaN                        NaN\n",
            "75%     310.75                 NaN  ...          NaN                        NaN\n",
            "max     414.00                 NaN  ...          NaN                        NaN\n",
            "\n",
            "[11 rows x 8 columns]\n"
          ],
          "name": "stdout"
        }
      ]
    },
    {
      "cell_type": "code",
      "metadata": {
        "id": "eR8K4xsQHTjS",
        "colab_type": "code",
        "colab": {
          "base_uri": "https://localhost:8080/",
          "height": 250
        },
        "outputId": "96c21fb8-ce66-40cc-ea4f-30c2118f21ff"
      },
      "source": [
        "#Reneme Renee column\n",
        "df.columns=['No','data','age','distance','number_store','latitue','longitude','price']\n",
        "print(df)"
      ],
      "execution_count": 23,
      "outputs": [
        {
          "output_type": "stream",
          "text": [
            "      No      data   age  distance  number_store   latitue  longitude price\n",
            "0      1  2012,917    32  84,87882            10  24,98298  121,54024  37,9\n",
            "1      2  2012,917  19,5  306,5947             9  24,98034  121,53951  42,2\n",
            "2      3  2013,583  13,3  561,9845             5  24,98746  121,54391  47,3\n",
            "3      4  2013,500  13,3  561,9845             5  24,98746  121,54391  54,8\n",
            "4      5  2012,833     5  390,5684             5  24,97937  121,54245  43,1\n",
            "..   ...       ...   ...       ...           ...       ...        ...   ...\n",
            "409  410  2013,000  13,7  4082,015             0  24,94155  121,50381  15,4\n",
            "410  411  2012,667   5,6  90,45606             9  24,97433   121,5431    50\n",
            "411  412  2013,250  18,8  390,9696             7  24,97923  121,53986  40,6\n",
            "412  413  2013,000   8,1  104,8101             5  24,96674  121,54067  52,5\n",
            "413  414  2013,500   6,5  90,45606             9  24,97433   121,5431  63,9\n",
            "\n",
            "[414 rows x 8 columns]\n"
          ],
          "name": "stdout"
        }
      ]
    },
    {
      "cell_type": "code",
      "metadata": {
        "id": "ttkdurk7E_dZ",
        "colab_type": "code",
        "colab": {}
      },
      "source": [
        "#Accès aux variables"
      ],
      "execution_count": 0,
      "outputs": []
    },
    {
      "cell_type": "code",
      "metadata": {
        "id": "20eM-mjkE_NN",
        "colab_type": "code",
        "colab": {
          "base_uri": "https://localhost:8080/",
          "height": 217
        },
        "outputId": "da4b553f-5b16-4569-b8a0-54283fba852c"
      },
      "source": [
        "#accès à une colonne\n",
        "print(df['price'])"
      ],
      "execution_count": 25,
      "outputs": [
        {
          "output_type": "stream",
          "text": [
            "0      37,9\n",
            "1      42,2\n",
            "2      47,3\n",
            "3      54,8\n",
            "4      43,1\n",
            "       ... \n",
            "409    15,4\n",
            "410      50\n",
            "411    40,6\n",
            "412    52,5\n",
            "413    63,9\n",
            "Name: price, Length: 414, dtype: object\n"
          ],
          "name": "stdout"
        }
      ]
    },
    {
      "cell_type": "code",
      "metadata": {
        "id": "Ezkts8LOFBQ9",
        "colab_type": "code",
        "colab": {
          "base_uri": "https://localhost:8080/",
          "height": 217
        },
        "outputId": "920f8d31-832a-4ff0-9ee6-14fda81a2a68"
      },
      "source": [
        "#autre manière d'accéder à une colonne avec le .\n",
        "#sous R nous utiliserions le $\n",
        "print(df.age)"
      ],
      "execution_count": 26,
      "outputs": [
        {
          "output_type": "stream",
          "text": [
            "0        32\n",
            "1      19,5\n",
            "2      13,3\n",
            "3      13,3\n",
            "4         5\n",
            "       ... \n",
            "409    13,7\n",
            "410     5,6\n",
            "411    18,8\n",
            "412     8,1\n",
            "413     6,5\n",
            "Name: age, Length: 414, dtype: object\n"
          ],
          "name": "stdout"
        }
      ]
    },
    {
      "cell_type": "code",
      "metadata": {
        "id": "Wh701K1_FpMI",
        "colab_type": "code",
        "colab": {
          "base_uri": "https://localhost:8080/",
          "height": 250
        },
        "outputId": "5bd53125-b302-4f6c-dbf6-f8489b9095cc"
      },
      "source": [
        "#accéder à un ensemble de colonnes\n",
        "print(df[['age','price']])"
      ],
      "execution_count": 27,
      "outputs": [
        {
          "output_type": "stream",
          "text": [
            "      age price\n",
            "0      32  37,9\n",
            "1    19,5  42,2\n",
            "2    13,3  47,3\n",
            "3    13,3  54,8\n",
            "4       5  43,1\n",
            "..    ...   ...\n",
            "409  13,7  15,4\n",
            "410   5,6    50\n",
            "411  18,8  40,6\n",
            "412   8,1  52,5\n",
            "413   6,5  63,9\n",
            "\n",
            "[414 rows x 2 columns]\n"
          ],
          "name": "stdout"
        }
      ]
    },
    {
      "cell_type": "code",
      "metadata": {
        "id": "dWLcewbVIc-1",
        "colab_type": "code",
        "colab": {
          "base_uri": "https://localhost:8080/",
          "height": 117
        },
        "outputId": "410bdb98-a8cb-4cee-9657-f05f08ae6389"
      },
      "source": [
        "#une colonne est un vecteur (Series en terminologie Pandas)\n",
        "#affichage des premières valeurs\n",
        "print(df['age'].head())"
      ],
      "execution_count": 28,
      "outputs": [
        {
          "output_type": "stream",
          "text": [
            "0      32\n",
            "1    19,5\n",
            "2    13,3\n",
            "3    13,3\n",
            "4       5\n",
            "Name: age, dtype: object\n"
          ],
          "name": "stdout"
        }
      ]
    },
    {
      "cell_type": "code",
      "metadata": {
        "id": "mz-XewSLIpFn",
        "colab_type": "code",
        "colab": {
          "base_uri": "https://localhost:8080/",
          "height": 117
        },
        "outputId": "b1b9b1e3-1f3c-469c-a905-4d3346f62700"
      },
      "source": [
        "#affichage des dernières valeurs\n",
        "print(df['age'].tail())"
      ],
      "execution_count": 29,
      "outputs": [
        {
          "output_type": "stream",
          "text": [
            "409    13,7\n",
            "410     5,6\n",
            "411    18,8\n",
            "412     8,1\n",
            "413     6,5\n",
            "Name: age, dtype: object\n"
          ],
          "name": "stdout"
        }
      ]
    },
    {
      "cell_type": "code",
      "metadata": {
        "id": "QRVzEamhI_za",
        "colab_type": "code",
        "colab": {
          "base_uri": "https://localhost:8080/",
          "height": 100
        },
        "outputId": "1dd398af-555b-41d8-8d3d-d59876acdd8c"
      },
      "source": [
        "#statistique descriptive. Pour plus de détails, voir :\n",
        "#http://pandas.pydata.org/pandas-docs/stable/basics.html#summarizing-data-descri\n",
        "print(df['age'].describe())"
      ],
      "execution_count": 31,
      "outputs": [
        {
          "output_type": "stream",
          "text": [
            "count     414\n",
            "unique    236\n",
            "top         0\n",
            "freq       17\n",
            "Name: age, dtype: object\n"
          ],
          "name": "stdout"
        }
      ]
    },
    {
      "cell_type": "code",
      "metadata": {
        "id": "FZeLUROBJJh9",
        "colab_type": "code",
        "colab": {
          "base_uri": "https://localhost:8080/",
          "height": 33
        },
        "outputId": "02fab627-1750-47fd-e266-2d837f455cff"
      },
      "source": [
        "#calculer explicitement la moyenne\n",
        "print(df['No'].mean())"
      ],
      "execution_count": 42,
      "outputs": [
        {
          "output_type": "stream",
          "text": [
            "207.5\n"
          ],
          "name": "stdout"
        }
      ]
    },
    {
      "cell_type": "code",
      "metadata": {
        "id": "29HRNTLhKoBb",
        "colab_type": "code",
        "colab": {
          "base_uri": "https://localhost:8080/",
          "height": 217
        },
        "outputId": "9168113b-40dd-42fb-f547-760ab9b6a987"
      },
      "source": [
        "#comptage des valeurs\n",
        "print(df['age'].value_counts())"
      ],
      "execution_count": 43,
      "outputs": [
        {
          "output_type": "stream",
          "text": [
            "0       17\n",
            "13,6     7\n",
            "16,4     6\n",
            "13,3     6\n",
            "13,2     6\n",
            "        ..\n",
            "12,4     1\n",
            "2,7      1\n",
            "26,8     1\n",
            "8,4      1\n",
            "10,5     1\n",
            "Name: age, Length: 236, dtype: int64\n"
          ],
          "name": "stdout"
        }
      ]
    },
    {
      "cell_type": "code",
      "metadata": {
        "id": "MBqjZKwzLCOt",
        "colab_type": "code",
        "colab": {
          "base_uri": "https://localhost:8080/",
          "height": 33
        },
        "outputId": "55572438-ae10-47ba-a3f8-2d6f704904a1"
      },
      "source": [
        "#un type Series est un vecteur, il est possible d'utiliser des indices\n",
        "#première valeur\n",
        "print(df['age'][0])"
      ],
      "execution_count": 44,
      "outputs": [
        {
          "output_type": "stream",
          "text": [
            "32\n"
          ],
          "name": "stdout"
        }
      ]
    },
    {
      "cell_type": "code",
      "metadata": {
        "id": "5J6A3quVLK_L",
        "colab_type": "code",
        "colab": {
          "base_uri": "https://localhost:8080/",
          "height": 83
        },
        "outputId": "9ab34cf0-a7f1-4494-9567-ea462a677ed8"
      },
      "source": [
        "#3 premières valeurs\n",
        "print(df['age'][0:3])"
      ],
      "execution_count": 45,
      "outputs": [
        {
          "output_type": "stream",
          "text": [
            "0      32\n",
            "1    19,5\n",
            "2    13,3\n",
            "Name: age, dtype: object\n"
          ],
          "name": "stdout"
        }
      ]
    },
    {
      "cell_type": "code",
      "metadata": {
        "id": "PJM0MQ0qLSNM",
        "colab_type": "code",
        "colab": {
          "base_uri": "https://localhost:8080/",
          "height": 83
        },
        "outputId": "eb321b04-2cec-4122-ef4e-b82f5fa33770"
      },
      "source": [
        "#ou bien donc\n",
        "print(df.age[0:3])"
      ],
      "execution_count": 46,
      "outputs": [
        {
          "output_type": "stream",
          "text": [
            "0      32\n",
            "1    19,5\n",
            "2    13,3\n",
            "Name: age, dtype: object\n"
          ],
          "name": "stdout"
        }
      ]
    },
    {
      "cell_type": "code",
      "metadata": {
        "id": "22IELrA5LYhG",
        "colab_type": "code",
        "colab": {
          "base_uri": "https://localhost:8080/",
          "height": 217
        },
        "outputId": "b83260a2-8b17-4c6f-a4b4-da41e09b66d0"
      },
      "source": [
        "#trier les valeurs d'une variable de manière croissante\n",
        "print(df['age'].sort_values())"
      ],
      "execution_count": 47,
      "outputs": [
        {
          "output_type": "stream",
          "text": [
            "164      0\n",
            "103      0\n",
            "146      0\n",
            "16       0\n",
            "345      0\n",
            "      ... \n",
            "91     9,1\n",
            "223    9,1\n",
            "193    9,7\n",
            "112    9,9\n",
            "124    9,9\n",
            "Name: age, Length: 414, dtype: object\n"
          ],
          "name": "stdout"
        }
      ]
    },
    {
      "cell_type": "code",
      "metadata": {
        "id": "I4DQdtUYLYf0",
        "colab_type": "code",
        "colab": {
          "base_uri": "https://localhost:8080/",
          "height": 217
        },
        "outputId": "357c7503-444c-4eb0-f4bf-ac41493edfef"
      },
      "source": [
        "#nous pouvons aussi obtenir les indices des valeurs triées\n",
        "print(df['age'].argsort())"
      ],
      "execution_count": 48,
      "outputs": [
        {
          "output_type": "stream",
          "text": [
            "0      164\n",
            "1      103\n",
            "2      146\n",
            "3       16\n",
            "4      345\n",
            "      ... \n",
            "409     91\n",
            "410    223\n",
            "411    193\n",
            "412    112\n",
            "413    124\n",
            "Name: age, Length: 414, dtype: int64\n"
          ],
          "name": "stdout"
        }
      ]
    },
    {
      "cell_type": "code",
      "metadata": {
        "id": "jhOWM910LYeI",
        "colab_type": "code",
        "colab": {
          "base_uri": "https://localhost:8080/",
          "height": 117
        },
        "outputId": "8aede1e3-ba9d-4ea2-93d0-a2629395ad1a"
      },
      "source": [
        "#le tri peut être généralisé aux DataFrame\n",
        "#par exemple : trier le tableau de données selon l'âge\n",
        "#puis affichage des premières lignes avec head()\n",
        "print(df.sort_values(by='age').head())"
      ],
      "execution_count": 49,
      "outputs": [
        {
          "output_type": "stream",
          "text": [
            "      No      data age  distance  number_store   latitue  longitude price\n",
            "164  165  2012,833   0  185,4296             0   24,9711   121,5317  55,2\n",
            "103  104  2012,750   0  208,3905             6  24,95618  121,53844  45,7\n",
            "146  147  2012,750   0  185,4296             0   24,9711   121,5317  52,2\n",
            "16    17  2013,250   0  292,9978             6  24,97744  121,54458  70,1\n",
            "345  346  2012,667   0  185,4296             0   24,9711   121,5317  37,9\n"
          ],
          "name": "stdout"
        }
      ]
    },
    {
      "cell_type": "code",
      "metadata": {
        "id": "lzS1ZLiiL0hU",
        "colab_type": "code",
        "colab": {}
      },
      "source": [
        "#Itérations sur les variables"
      ],
      "execution_count": 0,
      "outputs": []
    },
    {
      "cell_type": "code",
      "metadata": {
        "id": "kT0IM-jWL0cm",
        "colab_type": "code",
        "colab": {
          "base_uri": "https://localhost:8080/",
          "height": 150
        },
        "outputId": "e746de22-af08-4fcb-c1c2-b82e6fee59a3"
      },
      "source": [
        "#boucler sur l'ensemble des colonnes\n",
        "for col in df.columns:\n",
        "  print(df[col].dtype)"
      ],
      "execution_count": 51,
      "outputs": [
        {
          "output_type": "stream",
          "text": [
            "int64\n",
            "object\n",
            "object\n",
            "object\n",
            "int64\n",
            "object\n",
            "object\n",
            "object\n"
          ],
          "name": "stdout"
        }
      ]
    },
    {
      "cell_type": "code",
      "metadata": {
        "id": "zEy_k13kMDkZ",
        "colab_type": "code",
        "colab": {}
      },
      "source": [
        "#LIBRAIRIE NUMPY"
      ],
      "execution_count": 0,
      "outputs": []
    },
    {
      "cell_type": "code",
      "metadata": {
        "id": "I6IgJ0dhL0ZO",
        "colab_type": "code",
        "colab": {}
      },
      "source": [
        "import numpy as np"
      ],
      "execution_count": 0,
      "outputs": []
    },
    {
      "cell_type": "code",
      "metadata": {
        "id": "ZQXAUWZ5L0Tm",
        "colab_type": "code",
        "colab": {
          "base_uri": "https://localhost:8080/",
          "height": 67
        },
        "outputId": "80b3f064-be4d-4125-ded4-2deb87e9ad6f"
      },
      "source": [
        "#fonction call back\n",
        "def operation(x):\n",
        "  return(x.mean())\n",
        "\n",
        "#appel de la fonction sur l'ensemble des colonnes du DataFrame\n",
        "#axis = 0 ==> chaque colonne sera transmise à la fonction operation()\n",
        "#la selection select_dtypes() permet d'exclure les variables non numériques\n",
        "resultat = df.select_dtypes(exclude=['object']).apply(operation,axis=0)\n",
        "print(resultat)"
      ],
      "execution_count": 55,
      "outputs": [
        {
          "output_type": "stream",
          "text": [
            "No              207.500000\n",
            "number_store      4.094203\n",
            "dtype: float64\n"
          ],
          "name": "stdout"
        }
      ]
    },
    {
      "cell_type": "code",
      "metadata": {
        "id": "ImLTd40dL0PR",
        "colab_type": "code",
        "colab": {
          "base_uri": "https://localhost:8080/",
          "height": 33
        },
        "outputId": "77fe3dfc-3b31-424b-894f-efa98ecb07bd"
      },
      "source": [
        "#accès à la valeur située en (0,0)\n",
        "print(df.iloc[0,0])"
      ],
      "execution_count": 56,
      "outputs": [
        {
          "output_type": "stream",
          "text": [
            "1\n"
          ],
          "name": "stdout"
        }
      ]
    },
    {
      "cell_type": "code",
      "metadata": {
        "id": "RkDprsXOMw9R",
        "colab_type": "code",
        "colab": {
          "base_uri": "https://localhost:8080/",
          "height": 33
        },
        "outputId": "a0d567d4-eed9-4bd5-f1fb-cd9c4b1a68be"
      },
      "source": [
        "#valeur située en dernière ligne, première colonne\n",
        "#utilisation de l'indiçage négatif\n",
        "print(df.iloc[-1,0])"
      ],
      "execution_count": 57,
      "outputs": [
        {
          "output_type": "stream",
          "text": [
            "414\n"
          ],
          "name": "stdout"
        }
      ]
    },
    {
      "cell_type": "code",
      "metadata": {
        "id": "dIPPFQXwMw3M",
        "colab_type": "code",
        "colab": {
          "base_uri": "https://localhost:8080/",
          "height": 33
        },
        "outputId": "7107d90b-dd21-4432-8550-5d4b5137bc62"
      },
      "source": [
        "#valeur située en dernière ligne, première colonne\n",
        "#shape[0] renvoie le nombre de lignes (première dimension)\n",
        "#il faut réduire de -1 parce le premier indice est égal à 0\n",
        "#sinon on déborde\n",
        "print(df.iloc[df.shape[0]-1,0])"
      ],
      "execution_count": 58,
      "outputs": [
        {
          "output_type": "stream",
          "text": [
            "414\n"
          ],
          "name": "stdout"
        }
      ]
    },
    {
      "cell_type": "code",
      "metadata": {
        "id": "bnnAH7BlMwzo",
        "colab_type": "code",
        "colab": {
          "base_uri": "https://localhost:8080/",
          "height": 117
        },
        "outputId": "da8d8682-9c6d-4a1d-9601-adea5c71d419"
      },
      "source": [
        "#5 premières valeurs de toutes les colonnes\n",
        "#lignes => 0:5 (0 à 5 [non inclus])\n",
        "#colonnes = : (toutes les colonnes)\n",
        "print(df.iloc[0:5,:])"
      ],
      "execution_count": 59,
      "outputs": [
        {
          "output_type": "stream",
          "text": [
            "   No      data   age  distance  number_store   latitue  longitude price\n",
            "0   1  2012,917    32  84,87882            10  24,98298  121,54024  37,9\n",
            "1   2  2012,917  19,5  306,5947             9  24,98034  121,53951  42,2\n",
            "2   3  2013,583  13,3  561,9845             5  24,98746  121,54391  47,3\n",
            "3   4  2013,500  13,3  561,9845             5  24,98746  121,54391  54,8\n",
            "4   5  2012,833     5  390,5684             5  24,97937  121,54245  43,1\n"
          ],
          "name": "stdout"
        }
      ]
    },
    {
      "cell_type": "code",
      "metadata": {
        "id": "77DevxmiMwuc",
        "colab_type": "code",
        "colab": {
          "base_uri": "https://localhost:8080/",
          "height": 117
        },
        "outputId": "d372a23f-9471-4139-b170-769098ae9cfb"
      },
      "source": [
        "#avec l'indiçage négatif, on peut facilement accéder aux 5 dernières lignes\n",
        "print(df.iloc[-5:,:])"
      ],
      "execution_count": 60,
      "outputs": [
        {
          "output_type": "stream",
          "text": [
            "      No      data   age  distance  number_store   latitue  longitude price\n",
            "409  410  2013,000  13,7  4082,015             0  24,94155  121,50381  15,4\n",
            "410  411  2012,667   5,6  90,45606             9  24,97433   121,5431    50\n",
            "411  412  2013,250  18,8  390,9696             7  24,97923  121,53986  40,6\n",
            "412  413  2013,000   8,1  104,8101             5  24,96674  121,54067  52,5\n",
            "413  414  2013,500   6,5  90,45606             9  24,97433   121,5431  63,9\n"
          ],
          "name": "stdout"
        }
      ]
    },
    {
      "cell_type": "code",
      "metadata": {
        "id": "245QqGSNMwsR",
        "colab_type": "code",
        "colab": {
          "base_uri": "https://localhost:8080/",
          "height": 117
        },
        "outputId": "5ffd5686-f890-4fbb-dbb9-59dad5dd3d68"
      },
      "source": [
        "#5 premières lignes et deux premières colonnes\n",
        "print(df.iloc[0:5,0:2])"
      ],
      "execution_count": 61,
      "outputs": [
        {
          "output_type": "stream",
          "text": [
            "   No      data\n",
            "0   1  2012,917\n",
            "1   2  2012,917\n",
            "2   3  2013,583\n",
            "3   4  2013,500\n",
            "4   5  2012,833\n"
          ],
          "name": "stdout"
        }
      ]
    },
    {
      "cell_type": "code",
      "metadata": {
        "id": "ykzoX3iXMwpM",
        "colab_type": "code",
        "colab": {
          "base_uri": "https://localhost:8080/",
          "height": 117
        },
        "outputId": "4e46014e-abef-472e-82db-25ff61618348"
      },
      "source": [
        "#5 premières lignes et colonnes 0, 1 et 4\n",
        "#on a une liste d'indices en colonne\n",
        "print(df.iloc[0:5,[0,2,4]])"
      ],
      "execution_count": 62,
      "outputs": [
        {
          "output_type": "stream",
          "text": [
            "   No   age  number_store\n",
            "0   1    32            10\n",
            "1   2  19,5             9\n",
            "2   3  13,3             5\n",
            "3   4  13,3             5\n",
            "4   5     5             5\n"
          ],
          "name": "stdout"
        }
      ]
    },
    {
      "cell_type": "code",
      "metadata": {
        "id": "-Uygj_RZL0Lf",
        "colab_type": "code",
        "colab": {
          "base_uri": "https://localhost:8080/",
          "height": 117
        },
        "outputId": "35d315ac-70eb-4a98-9828-a676d92efb87"
      },
      "source": [
        "#ou encore, pour exactement la même chose\n",
        "#remarquez le rôle de 2 dans 0:5:2\n",
        "print(df.iloc[0:5,0:5:2])"
      ],
      "execution_count": 63,
      "outputs": [
        {
          "output_type": "stream",
          "text": [
            "   No   age  number_store\n",
            "0   1    32            10\n",
            "1   2  19,5             9\n",
            "2   3  13,3             5\n",
            "3   4  13,3             5\n",
            "4   5     5             5\n"
          ],
          "name": "stdout"
        }
      ]
    },
    {
      "cell_type": "code",
      "metadata": {
        "id": "oVtp1pYuLYXD",
        "colab_type": "code",
        "colab": {
          "base_uri": "https://localhost:8080/",
          "height": 250
        },
        "outputId": "785f1d2c-2950-41e4-fd26-0a62b9356cea"
      },
      "source": [
        "#liste des maisons dont la distance des magasin est 5\n",
        "print(df.loc[df['number_store']==5,:])"
      ],
      "execution_count": 65,
      "outputs": [
        {
          "output_type": "stream",
          "text": [
            "      No      data   age  distance  number_store   latitue  longitude price\n",
            "2      3  2013,583  13,3  561,9845             5  24,98746  121,54391  47,3\n",
            "3      4  2013,500  13,3  561,9845             5  24,98746  121,54391  54,8\n",
            "4      5  2012,833     5  390,5684             5  24,97937  121,54245  43,1\n",
            "12    13  2012,917    13  492,2313             5  24,96515  121,53737  39,3\n",
            "26    27  2012,667   3,1  383,8624             5  24,98085  121,54391  56,2\n",
            "..   ...       ...   ...       ...           ...       ...        ...   ...\n",
            "374  375  2013,250   5,4  390,5684             5  24,97937  121,54245  49,5\n",
            "380  381  2013,333  14,1  289,3248             5  24,98203  121,54348  53,3\n",
            "400  401  2013,250  26,8  482,7581             5  24,97433  121,53863  35,5\n",
            "404  405  2013,333  16,4  289,3248             5  24,98203  121,54348  41,2\n",
            "412  413  2013,000   8,1  104,8101             5  24,96674  121,54067  52,5\n",
            "\n",
            "[67 rows x 8 columns]\n"
          ],
          "name": "stdout"
        }
      ]
    },
    {
      "cell_type": "code",
      "metadata": {
        "id": "-hCDVEMtOnRb",
        "colab_type": "code",
        "colab": {
          "base_uri": "https://localhost:8080/",
          "height": 250
        },
        "outputId": "7d6b3c40-6264-42dc-e4a1-30dd12433a47"
      },
      "source": [
        "#pour un ensemble de valeurs de la même variable,\n",
        "#nous utilisons isin()\n",
        "print(df.loc[df['number_store'].isin([5,9]),:])"
      ],
      "execution_count": 67,
      "outputs": [
        {
          "output_type": "stream",
          "text": [
            "      No      data   age  distance  number_store   latitue  longitude price\n",
            "1      2  2012,917  19,5  306,5947             9  24,98034  121,53951  42,2\n",
            "2      3  2013,583  13,3  561,9845             5  24,98746  121,54391  47,3\n",
            "3      4  2013,500  13,3  561,9845             5  24,98746  121,54391  54,8\n",
            "4      5  2012,833     5  390,5684             5  24,97937  121,54245  43,1\n",
            "11    12  2013,333   6,3  90,45606             9  24,97433   121,5431  58,1\n",
            "..   ...       ...   ...       ...           ...       ...        ...   ...\n",
            "403  404  2012,667  30,9   161,942             9  24,98353  121,53966  39,7\n",
            "404  405  2013,333  16,4  289,3248             5  24,98203  121,54348  41,2\n",
            "410  411  2012,667   5,6  90,45606             9  24,97433   121,5431    50\n",
            "412  413  2013,000   8,1  104,8101             5  24,96674  121,54067  52,5\n",
            "413  414  2013,500   6,5  90,45606             9  24,97433   121,5431  63,9\n",
            "\n",
            "[92 rows x 8 columns]\n"
          ],
          "name": "stdout"
        }
      ]
    },
    {
      "cell_type": "code",
      "metadata": {
        "id": "tm6cNQYVOnJ9",
        "colab_type": "code",
        "colab": {}
      },
      "source": [
        "# GRAPHIQUE"
      ],
      "execution_count": 0,
      "outputs": []
    },
    {
      "cell_type": "code",
      "metadata": {
        "id": "9d4mjzG6OnEY",
        "colab_type": "code",
        "colab": {}
      },
      "source": [
        "#indiquer que l'on veut voir apparaître les graphiques dans le notebook\n",
        "#/!\\ très important, sinon on ne verrait rien\n",
        "%matplotlib inline\n",
        "#importation de la librairie\n",
        "import matplotlib.pyplot as plt"
      ],
      "execution_count": 0,
      "outputs": []
    },
    {
      "cell_type": "code",
      "metadata": {
        "id": "zbsX4VClUQLI",
        "colab_type": "code",
        "colab": {
          "base_uri": "https://localhost:8080/",
          "height": 413
        },
        "outputId": "1da80c19-edf0-4be6-df86-12c48159d6c3"
      },
      "source": [
        "df.fillna(0) "
      ],
      "execution_count": 84,
      "outputs": [
        {
          "output_type": "execute_result",
          "data": {
            "text/html": [
              "<div>\n",
              "<style scoped>\n",
              "    .dataframe tbody tr th:only-of-type {\n",
              "        vertical-align: middle;\n",
              "    }\n",
              "\n",
              "    .dataframe tbody tr th {\n",
              "        vertical-align: top;\n",
              "    }\n",
              "\n",
              "    .dataframe thead th {\n",
              "        text-align: right;\n",
              "    }\n",
              "</style>\n",
              "<table border=\"1\" class=\"dataframe\">\n",
              "  <thead>\n",
              "    <tr style=\"text-align: right;\">\n",
              "      <th></th>\n",
              "      <th>No</th>\n",
              "      <th>data</th>\n",
              "      <th>age</th>\n",
              "      <th>distance</th>\n",
              "      <th>number_store</th>\n",
              "      <th>latitue</th>\n",
              "      <th>longitude</th>\n",
              "      <th>price</th>\n",
              "    </tr>\n",
              "  </thead>\n",
              "  <tbody>\n",
              "    <tr>\n",
              "      <th>0</th>\n",
              "      <td>1</td>\n",
              "      <td>2012,917</td>\n",
              "      <td>32</td>\n",
              "      <td>84,87882</td>\n",
              "      <td>10</td>\n",
              "      <td>24,98298</td>\n",
              "      <td>121,54024</td>\n",
              "      <td>37,9</td>\n",
              "    </tr>\n",
              "    <tr>\n",
              "      <th>1</th>\n",
              "      <td>2</td>\n",
              "      <td>2012,917</td>\n",
              "      <td>19,5</td>\n",
              "      <td>306,5947</td>\n",
              "      <td>9</td>\n",
              "      <td>24,98034</td>\n",
              "      <td>121,53951</td>\n",
              "      <td>42,2</td>\n",
              "    </tr>\n",
              "    <tr>\n",
              "      <th>2</th>\n",
              "      <td>3</td>\n",
              "      <td>2013,583</td>\n",
              "      <td>13,3</td>\n",
              "      <td>561,9845</td>\n",
              "      <td>5</td>\n",
              "      <td>24,98746</td>\n",
              "      <td>121,54391</td>\n",
              "      <td>47,3</td>\n",
              "    </tr>\n",
              "    <tr>\n",
              "      <th>3</th>\n",
              "      <td>4</td>\n",
              "      <td>2013,500</td>\n",
              "      <td>13,3</td>\n",
              "      <td>561,9845</td>\n",
              "      <td>5</td>\n",
              "      <td>24,98746</td>\n",
              "      <td>121,54391</td>\n",
              "      <td>54,8</td>\n",
              "    </tr>\n",
              "    <tr>\n",
              "      <th>4</th>\n",
              "      <td>5</td>\n",
              "      <td>2012,833</td>\n",
              "      <td>5</td>\n",
              "      <td>390,5684</td>\n",
              "      <td>5</td>\n",
              "      <td>24,97937</td>\n",
              "      <td>121,54245</td>\n",
              "      <td>43,1</td>\n",
              "    </tr>\n",
              "    <tr>\n",
              "      <th>...</th>\n",
              "      <td>...</td>\n",
              "      <td>...</td>\n",
              "      <td>...</td>\n",
              "      <td>...</td>\n",
              "      <td>...</td>\n",
              "      <td>...</td>\n",
              "      <td>...</td>\n",
              "      <td>...</td>\n",
              "    </tr>\n",
              "    <tr>\n",
              "      <th>409</th>\n",
              "      <td>410</td>\n",
              "      <td>2013,000</td>\n",
              "      <td>13,7</td>\n",
              "      <td>4082,015</td>\n",
              "      <td>0</td>\n",
              "      <td>24,94155</td>\n",
              "      <td>121,50381</td>\n",
              "      <td>15,4</td>\n",
              "    </tr>\n",
              "    <tr>\n",
              "      <th>410</th>\n",
              "      <td>411</td>\n",
              "      <td>2012,667</td>\n",
              "      <td>5,6</td>\n",
              "      <td>90,45606</td>\n",
              "      <td>9</td>\n",
              "      <td>24,97433</td>\n",
              "      <td>121,5431</td>\n",
              "      <td>50</td>\n",
              "    </tr>\n",
              "    <tr>\n",
              "      <th>411</th>\n",
              "      <td>412</td>\n",
              "      <td>2013,250</td>\n",
              "      <td>18,8</td>\n",
              "      <td>390,9696</td>\n",
              "      <td>7</td>\n",
              "      <td>24,97923</td>\n",
              "      <td>121,53986</td>\n",
              "      <td>40,6</td>\n",
              "    </tr>\n",
              "    <tr>\n",
              "      <th>412</th>\n",
              "      <td>413</td>\n",
              "      <td>2013,000</td>\n",
              "      <td>8,1</td>\n",
              "      <td>104,8101</td>\n",
              "      <td>5</td>\n",
              "      <td>24,96674</td>\n",
              "      <td>121,54067</td>\n",
              "      <td>52,5</td>\n",
              "    </tr>\n",
              "    <tr>\n",
              "      <th>413</th>\n",
              "      <td>414</td>\n",
              "      <td>2013,500</td>\n",
              "      <td>6,5</td>\n",
              "      <td>90,45606</td>\n",
              "      <td>9</td>\n",
              "      <td>24,97433</td>\n",
              "      <td>121,5431</td>\n",
              "      <td>63,9</td>\n",
              "    </tr>\n",
              "  </tbody>\n",
              "</table>\n",
              "<p>414 rows × 8 columns</p>\n",
              "</div>"
            ],
            "text/plain": [
              "      No      data   age  distance  number_store   latitue  longitude price\n",
              "0      1  2012,917    32  84,87882            10  24,98298  121,54024  37,9\n",
              "1      2  2012,917  19,5  306,5947             9  24,98034  121,53951  42,2\n",
              "2      3  2013,583  13,3  561,9845             5  24,98746  121,54391  47,3\n",
              "3      4  2013,500  13,3  561,9845             5  24,98746  121,54391  54,8\n",
              "4      5  2012,833     5  390,5684             5  24,97937  121,54245  43,1\n",
              "..   ...       ...   ...       ...           ...       ...        ...   ...\n",
              "409  410  2013,000  13,7  4082,015             0  24,94155  121,50381  15,4\n",
              "410  411  2012,667   5,6  90,45606             9  24,97433   121,5431    50\n",
              "411  412  2013,250  18,8  390,9696             7  24,97923  121,53986  40,6\n",
              "412  413  2013,000   8,1  104,8101             5  24,96674  121,54067  52,5\n",
              "413  414  2013,500   6,5  90,45606             9  24,97433   121,5431  63,9\n",
              "\n",
              "[414 rows x 8 columns]"
            ]
          },
          "metadata": {
            "tags": []
          },
          "execution_count": 84
        }
      ]
    },
    {
      "cell_type": "code",
      "metadata": {
        "id": "j512QQsWUUKb",
        "colab_type": "code",
        "colab": {
          "base_uri": "https://localhost:8080/",
          "height": 250
        },
        "outputId": "41661a22-5d3a-483d-b7f8-44bf3089cc58"
      },
      "source": [
        "print(df.isnull())"
      ],
      "execution_count": 85,
      "outputs": [
        {
          "output_type": "stream",
          "text": [
            "        No   data    age  distance  number_store  latitue  longitude  price\n",
            "0    False  False  False     False         False    False      False  False\n",
            "1    False  False  False     False         False    False      False  False\n",
            "2    False  False  False     False         False    False      False  False\n",
            "3    False  False  False     False         False    False      False  False\n",
            "4    False  False  False     False         False    False      False  False\n",
            "..     ...    ...    ...       ...           ...      ...        ...    ...\n",
            "409  False  False  False     False         False    False      False  False\n",
            "410  False  False  False     False         False    False      False  False\n",
            "411  False  False  False     False         False    False      False  False\n",
            "412  False  False  False     False         False    False      False  False\n",
            "413  False  False  False     False         False    False      False  False\n",
            "\n",
            "[414 rows x 8 columns]\n"
          ],
          "name": "stdout"
        }
      ]
    },
    {
      "cell_type": "code",
      "metadata": {
        "id": "I8E42gSzOm66",
        "colab_type": "code",
        "colab": {}
      },
      "source": [
        ""
      ],
      "execution_count": 0,
      "outputs": []
    }
  ]
}